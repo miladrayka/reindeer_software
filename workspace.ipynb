{
 "cells": [
  {
   "cell_type": "code",
   "execution_count": null,
   "metadata": {},
   "outputs": [],
   "source": [
    "import src\n",
    "from src import oic_dwic\n",
    "from src import ecif\n",
    "from src import utils"
   ]
  },
  {
   "cell_type": "code",
   "execution_count": null,
   "metadata": {},
   "outputs": [],
   "source": [
    "dwic = oic_dwic.InterAtomicContact(\n",
    "    pathfiles=\"./test/\",\n",
    "    filename=\"dwic_fv.csv\",\n",
    "    ligand_format=\"mol2\",\n",
    "    amino_acid_classes=utils.amino_acid_classes_DWIC,\n",
    "    cutoff=12.0,\n",
    "    feature_type=\"DWIC\",\n",
    "    exp=2,\n",
    ")\n",
    "\n",
    "oic = oic_dwic.InterAtomicContact(\n",
    "    pathfiles=\"./test/\",\n",
    "    filename=\"oic_fv.csv\",\n",
    "    ligand_format=\"mol2\",\n",
    "    amino_acid_classes=utils.amino_acid_classes_OIC,\n",
    "    cutoff=12.0,\n",
    "    feature_type=\"OIC\",\n",
    "    exp=None,\n",
    ")\n",
    "\n",
    "ecif = ecif.ECIF(\n",
    "    pathfiles=\"./test/\", filename=\"ecif_fv.csv\", ligand_format=\"sdf\", cutoff=6.0\n",
    ")"
   ]
  },
  {
   "cell_type": "code",
   "execution_count": null,
   "metadata": {},
   "outputs": [],
   "source": [
    "dwic.generate_features(n_jobs=-1)\n",
    "oic.generate_features(n_jobs=-1)\n",
    "ecif.generate_features(n_jobs=-1)"
   ]
  },
  {
   "cell_type": "code",
   "execution_count": null,
   "metadata": {},
   "outputs": [],
   "source": []
  }
 ],
 "metadata": {
  "kernelspec": {
   "display_name": "Python 3",
   "language": "python",
   "name": "python3"
  },
  "language_info": {
   "codemirror_mode": {
    "name": "ipython",
    "version": 3
   },
   "file_extension": ".py",
   "mimetype": "text/x-python",
   "name": "python",
   "nbconvert_exporter": "python",
   "pygments_lexer": "ipython3",
   "version": "3.8.16"
  }
 },
 "nbformat": 4,
 "nbformat_minor": 2
}
