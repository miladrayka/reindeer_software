{
 "cells": [
  {
   "cell_type": "code",
   "execution_count": 1,
   "metadata": {},
   "outputs": [
    {
     "name": "stderr",
     "output_type": "stream",
     "text": [
      "Skipped loading modules with pytorch-geometric dependency, missing a dependency. No module named 'torch_geometric'\n",
      "Skipped loading modules with pytorch-geometric dependency, missing a dependency. cannot import name 'DMPNN' from 'deepchem.models.torch_models' (C:\\Users\\Taniyama\\AppData\\Roaming\\Python\\Python38\\site-packages\\deepchem\\models\\torch_models\\__init__.py)\n",
      "Skipped loading modules with pytorch-lightning dependency, missing a dependency. No module named 'pytorch_lightning'\n",
      "Skipped loading some Jax models, missing a dependency. No module named 'jax'\n"
     ]
    }
   ],
   "source": [
    "import src\n",
    "from src import oic_dwic\n",
    "from src import ecif\n",
    "from src import utils\n",
    "from src import prtcmm_ifp"
   ]
  },
  {
   "cell_type": "code",
   "execution_count": 2,
   "metadata": {},
   "outputs": [],
   "source": [
    "dwic = oic_dwic.InterAtomicContact(\n",
    "    pathfiles=\"./test/\",\n",
    "    filename=\"dwic_fv.csv\",\n",
    "    ligand_format=\"mol2\",\n",
    "    amino_acid_classes=utils.amino_acid_classes_DWIC,\n",
    "    cutoff=12.0,\n",
    "    feature_type=\"DWIC\",\n",
    "    exp=2,\n",
    ")\n",
    "\n",
    "oic = oic_dwic.InterAtomicContact(\n",
    "    pathfiles=\"./test/\",\n",
    "    filename=\"oic_fv.csv\",\n",
    "    ligand_format=\"mol2\",\n",
    "    amino_acid_classes=utils.amino_acid_classes_OIC,\n",
    "    cutoff=12.0,\n",
    "    feature_type=\"OIC\",\n",
    "    exp=None,\n",
    ")\n",
    "\n",
    "ecif = ecif.ECIF(\n",
    "    pathfiles=\"./test/\", filename=\"ecif_fv.csv\", ligand_format=\"sdf\", cutoff=6.0\n",
    ")\n",
    "\n",
    "ifp = prtcmm_ifp.PrtCmmIFP(\n",
    "    pathfiles=r\"./test/\", filename=\"ifp_fv.csv\", ligand_format=\"mol2\", parameters=utils.prtcmm_ifp_parameters\n",
    ")\n",
    "\n",
    "plec = prtcmm_ifp.PrtCmmIFP(\n",
    "    pathfiles=r\"./test/\", filename=\"plec_fv.csv\", ligand_format=\"mol2\", parameters=utils.plec_fp_parameters\n",
    ")"
   ]
  },
  {
   "cell_type": "code",
   "execution_count": 21,
   "metadata": {},
   "outputs": [
    {
     "name": "stdout",
     "output_type": "stream",
     "text": [
      "Time: 0.0:0.0:35.93\n",
      "Time: 0.0:0.0:17.55\n"
     ]
    }
   ],
   "source": [
    "dwic.generate_features(n_jobs=-1)\n",
    "oic.generate_features(n_jobs=-1)\n",
    "ecif.generate_features(n_jobs=-1)\n",
    "ifp.generate_features(n_jobs=-1)\n",
    "plec.generate_features(n_jobs=-1)"
   ]
  },
  {
   "cell_type": "code",
   "execution_count": null,
   "metadata": {},
   "outputs": [],
   "source": []
  }
 ],
 "metadata": {
  "kernelspec": {
   "display_name": "Python 3",
   "language": "python",
   "name": "python3"
  },
  "language_info": {
   "codemirror_mode": {
    "name": "ipython",
    "version": 3
   },
   "file_extension": ".py",
   "mimetype": "text/x-python",
   "name": "python",
   "nbconvert_exporter": "python",
   "pygments_lexer": "ipython3",
   "version": "3.8.16"
  }
 },
 "nbformat": 4,
 "nbformat_minor": 2
}
