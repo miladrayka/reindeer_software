{
 "cells": [
  {
   "cell_type": "code",
   "execution_count": 2,
   "metadata": {},
   "outputs": [],
   "source": [
    "import oic_dwic\n",
    "from script import utils"
   ]
  },
  {
   "cell_type": "code",
   "execution_count": 3,
   "metadata": {},
   "outputs": [],
   "source": [
    "DWIC = oic_dwic.InterAtomicContact(\n",
    "    pathfiles=\"../test/\",\n",
    "    filename=\"DWIC.csv\",\n",
    "    ligand_format=\"mol2\",\n",
    "    amino_acid_classes=utils.amino_acid_classes_DWIC,\n",
    "    cutoff=12,\n",
    "    feature_type=\"DWIC\",\n",
    "    exp=2,\n",
    ")\n",
    "\n",
    "OIC = oic_dwic.InterAtomicContact(\n",
    "    pathfiles=\"../test/\",\n",
    "    filename=\"OIC.csv\",\n",
    "    ligand_format=\"mol2\",\n",
    "    amino_acid_classes=utils.amino_acid_classes_OIC,\n",
    "    cutoff=12,\n",
    "    feature_type=\"OIC\",\n",
    "    exp=None,\n",
    ")"
   ]
  },
  {
   "cell_type": "code",
   "execution_count": 4,
   "metadata": {},
   "outputs": [
    {
     "name": "stdout",
     "output_type": "stream",
     "text": [
      "Time: 0.0:0.0:7.81\n",
      "Time: 0.0:0.0:2.30\n"
     ]
    }
   ],
   "source": [
    "DWIC.generate_features(n_jobs=4)\n",
    "OIC.generate_features(n_jobs=4)"
   ]
  },
  {
   "cell_type": "code",
   "execution_count": 1,
   "metadata": {},
   "outputs": [],
   "source": [
    "import pandas as pd\n",
    "from rdkit import Chem\n",
    "from scipy.spatial.distance import cdist\n",
    "from itertools import product\n",
    "from Bio.PDB import PDBParser"
   ]
  },
  {
   "cell_type": "code",
   "execution_count": 48,
   "metadata": {},
   "outputs": [],
   "source": [
    "fv = GetECIF(\"../test/1a1e/1a1e_protein.pdb\", \"../test/1a1e/1a1e_ligand.sdf\")"
   ]
  },
  {
   "cell_type": "code",
   "execution_count": 46,
   "metadata": {},
   "outputs": [],
   "source": [
    "Pairs = GetPLPairs(\"../test/1a1e/1a1e_protein.pdb\", \"../test/1a1e/1a1e_ligand.sdf\", distance_cutoff=6.0)"
   ]
  },
  {
   "cell_type": "code",
   "execution_count": 15,
   "metadata": {},
   "outputs": [],
   "source": [
    "def GetECIF(PDB_protein, SDF_ligand, distance_cutoff=6.0):\n",
    "# Main function for the calculation of ECIF\n",
    "    Pairs = GetPLPairs(PDB_protein, SDF_ligand, distance_cutoff=distance_cutoff)\n",
    "    ECIF = [list(Pairs[\"ECIF_PAIR\"]).count(x) for x in PossibleECIF]\n",
    "    return ECIF"
   ]
  },
  {
   "cell_type": "code",
   "execution_count": 45,
   "metadata": {},
   "outputs": [],
   "source": [
    "def GetPLPairs(PDB_protein, SDF_ligand, distance_cutoff=6.0):\n",
    "# This function returns the protein-ligand atom-type pairs for a given distance cutoff\n",
    "    \n",
    "    # Load both structures as pandas DataFrames\n",
    "    Target = LoadPDBasDF(PDB_protein)\n",
    "    Ligand = LoadSDFasDF(SDF_ligand)\n",
    "\n",
    "    # Get all possible pairs\n",
    "    Pairs = list(product(Target[\"ECIF_ATOM_TYPE\"], Ligand[\"ECIF_ATOM_TYPE\"]))\n",
    "    Pairs = [x[0]+\"-\"+x[1] for x in Pairs]\n",
    "    Pairs = pd.DataFrame(Pairs, columns=[\"ECIF_PAIR\"])\n",
    "    Distances = cdist(Target[[\"X\",\"Y\",\"Z\"]], Ligand[[\"X\",\"Y\",\"Z\"]], metric=\"euclidean\").reshape(-1, 1)\n",
    "    Pairs[\"DISTANCE\"] = Distances\n",
    "    \n",
    "    Pairs = Pairs[Pairs[\"DISTANCE\"] <= distance_cutoff].reset_index(drop=True)\n",
    "    \n",
    "    return Pairs"
   ]
  },
  {
   "cell_type": "code",
   "execution_count": 8,
   "metadata": {},
   "outputs": [],
   "source": [
    "\n",
    "def LoadPDBasDF(pdbfile):\n",
    "    parser = PDBParser(PERMISSIVE=True, QUIET=True)\n",
    "    protein = parser.get_structure(\"\", pdbfile)\n",
    "    ECIF_atoms = []\n",
    "    atom_index = 1\n",
    "    for residue in protein.get_residues():\n",
    "        if residue.id[0] == \" \":\n",
    "            for atom in residue.get_atoms():\n",
    "                if atom.element in [\"C\", \"N\", \"O\", \"S\"]:\n",
    "                    ECIF_atoms.append([atom_index, \n",
    "                                   residue.get_resname()+\"-\"+atom.name, \n",
    "                                   atom.coord[0], \n",
    "                                   atom.coord[1], \n",
    "                                   atom.coord[2]])\n",
    "                    atom_index += 1\n",
    "\n",
    "    df = pd.DataFrame(ECIF_atoms, columns=[\"ATOM_INDEX\",\"PDB_ATOM\",\"X\",\"Y\",\"Z\"])\n",
    "    df = df.merge(Atom_Keys, left_on='PDB_ATOM', right_on='PDB_ATOM')[[\"ATOM_INDEX\", \"ECIF_ATOM_TYPE\", \"X\", \"Y\", \"Z\"]].sort_values(by=\"ATOM_INDEX\").reset_index(drop=True)\n",
    "    df.iloc[:, 2:] = df.iloc[:, 2:].astype(float).round(3)\n",
    "\n",
    "    return df\n"
   ]
  },
  {
   "cell_type": "code",
   "execution_count": 12,
   "metadata": {},
   "outputs": [],
   "source": [
    "def LoadSDFasDF(SDF):\n",
    "# This function takes an SDF for a ligand as input and returns it as a pandas DataFrame with its atom types labeled according to ECIF\n",
    "    \n",
    "    m = Chem.MolFromMolFile(SDF, sanitize=False)\n",
    "    m.UpdatePropertyCache(strict=False)\n",
    "    \n",
    "    ECIF_atoms = []\n",
    "\n",
    "    for atom in m.GetAtoms():\n",
    "        if atom.GetSymbol() != \"H\" and atom.GetSymbol() in [\"C\", \"N\", \"O\", \"S\", \"P\", \"F\", \"Cl\", \"Br\", \"I\"]:\n",
    "            entry = [int(atom.GetIdx())]\n",
    "            entry.append(GetAtomType(atom))\n",
    "            pos = m.GetConformer().GetAtomPosition(atom.GetIdx())\n",
    "            entry.append(float(\"{0:.4f}\".format(pos.x)))\n",
    "            entry.append(float(\"{0:.4f}\".format(pos.y)))\n",
    "            entry.append(float(\"{0:.4f}\".format(pos.z)))\n",
    "            ECIF_atoms.append(entry)\n",
    "\n",
    "    df = pd.DataFrame(ECIF_atoms)\n",
    "    df.columns = [\"ATOM_INDEX\", \"ECIF_ATOM_TYPE\",\"X\",\"Y\",\"Z\"]\n",
    "    \n",
    "    return(df)"
   ]
  },
  {
   "cell_type": "code",
   "execution_count": 17,
   "metadata": {},
   "outputs": [],
   "source": [
    "def GetAtomType(atom):\n",
    "# This function takes an atom in a molecule and returns its type as defined for ECIF\n",
    "    \n",
    "    AtomType = [atom.GetSymbol(),\n",
    "                str(atom.GetExplicitValence()),\n",
    "                str(len([x.GetSymbol() for x in atom.GetNeighbors() if x.GetSymbol() != \"H\"])),\n",
    "                str(len([x.GetSymbol() for x in atom.GetNeighbors() if x.GetSymbol() == \"H\"])),\n",
    "                str(int(atom.GetIsAromatic())),\n",
    "                str(int(atom.IsInRing())), \n",
    "               ]\n",
    "\n",
    "    return(\";\".join(AtomType))\n"
   ]
  },
  {
   "cell_type": "code",
   "execution_count": 3,
   "metadata": {},
   "outputs": [],
   "source": [
    "# Possible protein atom types.\n",
    "ECIF_ProteinAtoms = ['C;4;1;3;0;0', 'C;4;2;1;1;1', 'C;4;2;2;0;0', 'C;4;2;2;0;1',\n",
    "                     'C;4;3;0;0;0', 'C;4;3;0;1;1', 'C;4;3;1;0;0', 'C;4;3;1;0;1',\n",
    "                     'C;5;3;0;0;0', 'C;6;3;0;0;0', 'N;3;1;2;0;0', 'N;3;2;0;1;1',\n",
    "                     'N;3;2;1;0;0', 'N;3;2;1;1;1', 'N;3;3;0;0;1', 'N;4;1;2;0;0',\n",
    "                     'N;4;1;3;0;0', 'N;4;2;1;0;0', 'O;2;1;0;0;0', 'O;2;1;1;0;0',\n",
    "                     'S;2;1;1;0;0', 'S;2;2;0;0;0']\n",
    "\n",
    "# Possible ligand atom types.\n",
    "ECIF_LigandAtoms = ['Br;1;1;0;0;0', 'C;3;3;0;1;1', 'C;4;1;1;0;0', 'C;4;1;2;0;0',\n",
    "                     'C;4;1;3;0;0', 'C;4;2;0;0;0', 'C;4;2;1;0;0', 'C;4;2;1;0;1',\n",
    "                     'C;4;2;1;1;1', 'C;4;2;2;0;0', 'C;4;2;2;0;1', 'C;4;3;0;0;0',\n",
    "                     'C;4;3;0;0;1', 'C;4;3;0;1;1', 'C;4;3;1;0;0', 'C;4;3;1;0;1',\n",
    "                     'C;4;4;0;0;0', 'C;4;4;0;0;1', 'C;5;3;0;0;0', 'C;5;3;0;1;1',\n",
    "                     'C;6;3;0;0;0', 'Cl;1;1;0;0;0', 'F;1;1;0;0;0', 'I;1;1;0;0;0',\n",
    "                     'N;3;1;0;0;0', 'N;3;1;1;0;0', 'N;3;1;2;0;0', 'N;3;2;0;0;0',\n",
    "                     'N;3;2;0;0;1', 'N;3;2;0;1;1', 'N;3;2;1;0;0', 'N;3;2;1;0;1',\n",
    "                     'N;3;2;1;1;1', 'N;3;3;0;0;0', 'N;3;3;0;0;1', 'N;3;3;0;1;1',\n",
    "                     'N;4;1;2;0;0', 'N;4;1;3;0;0', 'N;4;2;1;0;0', 'N;4;2;2;0;0',\n",
    "                     'N;4;2;2;0;1', 'N;4;3;0;0;0', 'N;4;3;0;0;1', 'N;4;3;1;0;0',\n",
    "                     'N;4;3;1;0;1', 'N;4;4;0;0;0', 'N;4;4;0;0;1', 'N;5;2;0;0;0',\n",
    "                     'N;5;3;0;0;0', 'N;5;3;0;1;1', 'O;2;1;0;0;0', 'O;2;1;1;0;0',\n",
    "                     'O;2;2;0;0;0', 'O;2;2;0;0;1', 'O;2;2;0;1;1', 'P;5;4;0;0;0',\n",
    "                     'P;6;4;0;0;0', 'P;6;4;0;0;1', 'P;7;4;0;0;0', 'S;2;1;0;0;0',\n",
    "                     'S;2;1;1;0;0', 'S;2;2;0;0;0', 'S;2;2;0;0;1', 'S;2;2;0;1;1',\n",
    "                     'S;3;3;0;0;0', 'S;3;3;0;0;1', 'S;4;3;0;0;0', 'S;6;4;0;0;0',\n",
    "                     'S;6;4;0;0;1', 'S;7;4;0;0;0']\n",
    "\n",
    "# Possible protein-ligand atom types pair \n",
    "PossibleECIF = [i[0]+\"-\"+i[1] for i in product(ECIF_ProteinAtoms, ECIF_LigandAtoms)]\n",
    "\n",
    "\n",
    "Atom_Keys=pd.read_csv(\"PDB_Atom_Keys.csv\", sep=\",\")"
   ]
  },
  {
   "cell_type": "code",
   "execution_count": null,
   "metadata": {},
   "outputs": [],
   "source": []
  }
 ],
 "metadata": {
  "kernelspec": {
   "display_name": "Python 3",
   "language": "python",
   "name": "python3"
  },
  "language_info": {
   "codemirror_mode": {
    "name": "ipython",
    "version": 3
   },
   "file_extension": ".py",
   "mimetype": "text/x-python",
   "name": "python",
   "nbconvert_exporter": "python",
   "pygments_lexer": "ipython3",
   "version": "3.8.16"
  }
 },
 "nbformat": 4,
 "nbformat_minor": 2
}
