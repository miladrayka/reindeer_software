{
 "cells": [
  {
   "cell_type": "code",
   "execution_count": 2,
   "metadata": {},
   "outputs": [],
   "source": [
    "import oic_dwic\n",
    "from script import utils"
   ]
  },
  {
   "cell_type": "code",
   "execution_count": 3,
   "metadata": {},
   "outputs": [],
   "source": [
    "DWIC = oic_dwic.InterAtomicContact(\n",
    "    pathfiles=\"../test/\",\n",
    "    filename=\"DWIC.csv\",\n",
    "    ligand_format=\"mol2\",\n",
    "    amino_acid_classes=utils.amino_acid_classes_DWIC,\n",
    "    cutoff=12,\n",
    "    feature_type=\"DWIC\",\n",
    "    exp=2,\n",
    ")\n",
    "\n",
    "OIC = oic_dwic.InterAtomicContact(\n",
    "    pathfiles=\"../test/\",\n",
    "    filename=\"OIC.csv\",\n",
    "    ligand_format=\"mol2\",\n",
    "    amino_acid_classes=utils.amino_acid_classes_OIC,\n",
    "    cutoff=12,\n",
    "    feature_type=\"OIC\",\n",
    "    exp=None,\n",
    ")"
   ]
  },
  {
   "cell_type": "code",
   "execution_count": 4,
   "metadata": {},
   "outputs": [
    {
     "name": "stdout",
     "output_type": "stream",
     "text": [
      "Time: 0.0:0.0:7.81\n",
      "Time: 0.0:0.0:2.30\n"
     ]
    }
   ],
   "source": [
    "DWIC.generate_features(n_jobs=4)\n",
    "OIC.generate_features(n_jobs=4)"
   ]
  },
  {
   "cell_type": "code",
   "execution_count": null,
   "metadata": {},
   "outputs": [],
   "source": []
  }
 ],
 "metadata": {
  "kernelspec": {
   "display_name": "Python 3",
   "language": "python",
   "name": "python3"
  },
  "language_info": {
   "codemirror_mode": {
    "name": "ipython",
    "version": 3
   },
   "file_extension": ".py",
   "mimetype": "text/x-python",
   "name": "python",
   "nbconvert_exporter": "python",
   "pygments_lexer": "ipython3",
   "version": "3.8.16"
  }
 },
 "nbformat": 4,
 "nbformat_minor": 2
}
